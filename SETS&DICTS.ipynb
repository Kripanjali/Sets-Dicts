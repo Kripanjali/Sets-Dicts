{
 "cells": [
  {
   "cell_type": "code",
   "execution_count": 10,
   "id": "7664493e",
   "metadata": {},
   "outputs": [
    {
     "data": {
      "text/plain": [
       "set"
      ]
     },
     "execution_count": 10,
     "metadata": {},
     "output_type": "execute_result"
    }
   ],
   "source": [
    "stem_set = {'science','technology','engineering','mathematics'}\n",
    "type(stem_set)"
   ]
  },
  {
   "cell_type": "code",
   "execution_count": 11,
   "id": "f800914f",
   "metadata": {},
   "outputs": [],
   "source": [
    "steam_set = stem_set\n"
   ]
  },
  {
   "cell_type": "code",
   "execution_count": 12,
   "id": "5ffcc962",
   "metadata": {},
   "outputs": [
    {
     "data": {
      "text/plain": [
       "set()"
      ]
     },
     "execution_count": 12,
     "metadata": {},
     "output_type": "execute_result"
    }
   ],
   "source": [
    "stem_set.difference(stem_set)"
   ]
  },
  {
   "cell_type": "code",
   "execution_count": 14,
   "id": "bb15a3e8",
   "metadata": {},
   "outputs": [
    {
     "data": {
      "text/plain": [
       "dict"
      ]
     },
     "execution_count": 14,
     "metadata": {},
     "output_type": "execute_result"
    }
   ],
   "source": [
    "empty_dict = {}\n",
    "type(empty_dict)"
   ]
  },
  {
   "cell_type": "code",
   "execution_count": 15,
   "id": "5b58a28e",
   "metadata": {},
   "outputs": [
    {
     "data": {
      "text/plain": [
       "dict"
      ]
     },
     "execution_count": 15,
     "metadata": {},
     "output_type": "execute_result"
    }
   ],
   "source": [
    "product_prices = {\n",
    "    'creamer': 3.79,\n",
    "    'apples': 3.99,\n",
    "    'pears': 3.99,\n",
    "    'cough syrup': 11.99,\n",
    "    'salmon': 14.99\n",
    "}\n",
    "type(product_prices)"
   ]
  },
  {
   "cell_type": "code",
   "execution_count": 17,
   "id": "13e4625b",
   "metadata": {},
   "outputs": [
    {
     "data": {
      "text/plain": [
       "dict_keys(['creamer', 'apples', 'pears', 'cough syrup', 'salmon'])"
      ]
     },
     "execution_count": 17,
     "metadata": {},
     "output_type": "execute_result"
    }
   ],
   "source": [
    "product_prices.keys()\n"
   ]
  },
  {
   "cell_type": "code",
   "execution_count": 18,
   "id": "17c74b82",
   "metadata": {},
   "outputs": [
    {
     "data": {
      "text/plain": [
       "dict_keys"
      ]
     },
     "execution_count": 18,
     "metadata": {},
     "output_type": "execute_result"
    }
   ],
   "source": [
    "type(product_prices.keys())\n"
   ]
  },
  {
   "cell_type": "code",
   "execution_count": 19,
   "id": "b36e8c27",
   "metadata": {},
   "outputs": [
    {
     "data": {
      "text/plain": [
       "dict_values([3.79, 3.99, 3.99, 11.99, 14.99])"
      ]
     },
     "execution_count": 19,
     "metadata": {},
     "output_type": "execute_result"
    }
   ],
   "source": [
    "product_prices.values()"
   ]
  },
  {
   "cell_type": "code",
   "execution_count": 20,
   "id": "af79a814",
   "metadata": {},
   "outputs": [
    {
     "data": {
      "text/plain": [
       "dict_items([('creamer', 3.79), ('apples', 3.99), ('pears', 3.99), ('cough syrup', 11.99), ('salmon', 14.99)])"
      ]
     },
     "execution_count": 20,
     "metadata": {},
     "output_type": "execute_result"
    }
   ],
   "source": [
    "product_prices.items()\n"
   ]
  },
  {
   "cell_type": "code",
   "execution_count": 21,
   "id": "936003a0",
   "metadata": {},
   "outputs": [
    {
     "data": {
      "text/plain": [
       "True"
      ]
     },
     "execution_count": 21,
     "metadata": {},
     "output_type": "execute_result"
    }
   ],
   "source": [
    "'apples' in product_prices\n"
   ]
  },
  {
   "cell_type": "code",
   "execution_count": 22,
   "id": "e479abc3",
   "metadata": {},
   "outputs": [
    {
     "data": {
      "text/plain": [
       "True"
      ]
     },
     "execution_count": 22,
     "metadata": {},
     "output_type": "execute_result"
    }
   ],
   "source": [
    "'apples' in product_prices.keys()\n"
   ]
  },
  {
   "cell_type": "code",
   "execution_count": 23,
   "id": "030ec4cb",
   "metadata": {},
   "outputs": [
    {
     "data": {
      "text/plain": [
       "True"
      ]
     },
     "execution_count": 23,
     "metadata": {},
     "output_type": "execute_result"
    }
   ],
   "source": [
    "3.99 in product_prices.values()\n"
   ]
  },
  {
   "cell_type": "code",
   "execution_count": 24,
   "id": "30a0ee9e",
   "metadata": {},
   "outputs": [
    {
     "data": {
      "text/plain": [
       "False"
      ]
     },
     "execution_count": 24,
     "metadata": {},
     "output_type": "execute_result"
    }
   ],
   "source": [
    "3.99 in product_prices"
   ]
  },
  {
   "cell_type": "code",
   "execution_count": 25,
   "id": "4cec484f",
   "metadata": {},
   "outputs": [
    {
     "name": "stdout",
     "output_type": "stream",
     "text": [
      "{'creamer': 3.79, 'apples': 3.99, 'pears': 3.99, 'cough syrup': 11.99, 'salmon': 14.99, 'laundry detergent': 13.99}\n"
     ]
    }
   ],
   "source": [
    "product_prices['laundry detergent'] = 13.99\n",
    "print(product_prices)"
   ]
  },
  {
   "cell_type": "code",
   "execution_count": 26,
   "id": "1dbc965d",
   "metadata": {},
   "outputs": [
    {
     "name": "stdout",
     "output_type": "stream",
     "text": [
      "{'creamer': 3.79, 'apples': 3.99, 'pears': 3.99, 'cough syrup': 9.99, 'salmon': 14.99, 'laundry detergent': 13.99}\n"
     ]
    }
   ],
   "source": [
    "product_prices.update({'cough syrup':9.99})\n",
    "print(product_prices)"
   ]
  },
  {
   "cell_type": "code",
   "execution_count": 27,
   "id": "b73f4da5",
   "metadata": {},
   "outputs": [
    {
     "name": "stdout",
     "output_type": "stream",
     "text": [
      "('laundry detergent', 13.99)\n"
     ]
    }
   ],
   "source": [
    "last_item = product_prices.popitem()\n",
    "print(last_item)"
   ]
  },
  {
   "cell_type": "code",
   "execution_count": 30,
   "id": "d7badd87",
   "metadata": {},
   "outputs": [
    {
     "name": "stdout",
     "output_type": "stream",
     "text": [
      "{'creamer': 3.79, 'cough syrup': 9.99, 'salmon': 14.99}\n"
     ]
    }
   ],
   "source": [
    "product_prices.pop('apples')\n",
    "print(product_prices)\n"
   ]
  },
  {
   "cell_type": "code",
   "execution_count": 31,
   "id": "d68c57e0",
   "metadata": {},
   "outputs": [
    {
     "ename": "AttributeError",
     "evalue": "'dict' object has no attribute 'add'",
     "output_type": "error",
     "traceback": [
      "\u001b[1;31m---------------------------------------------------------------------------\u001b[0m",
      "\u001b[1;31mAttributeError\u001b[0m                            Traceback (most recent call last)",
      "Input \u001b[1;32mIn [31]\u001b[0m, in \u001b[0;36m<cell line: 1>\u001b[1;34m()\u001b[0m\n\u001b[1;32m----> 1\u001b[0m \u001b[43mproduct_prices\u001b[49m\u001b[38;5;241;43m.\u001b[39;49m\u001b[43madd\u001b[49m(\u001b[38;5;124m'\u001b[39m\u001b[38;5;124mapples\u001b[39m\u001b[38;5;124m'\u001b[39m)\n\u001b[0;32m      2\u001b[0m \u001b[38;5;28mprint\u001b[39m(product_prices)\n",
      "\u001b[1;31mAttributeError\u001b[0m: 'dict' object has no attribute 'add'"
     ]
    }
   ],
   "source": [
    "product_prices.add('apples')\n",
    "print(product_prices)"
   ]
  },
  {
   "cell_type": "code",
   "execution_count": 32,
   "id": "b1b9c62e",
   "metadata": {},
   "outputs": [
    {
     "name": "stdout",
     "output_type": "stream",
     "text": [
      "{'creamer': 3.79, 'salmon': 14.99}\n"
     ]
    }
   ],
   "source": [
    "del product_prices['cough syrup']\n",
    "print(product_prices)"
   ]
  },
  {
   "cell_type": "code",
   "execution_count": 33,
   "id": "c806afc2",
   "metadata": {},
   "outputs": [
    {
     "name": "stdout",
     "output_type": "stream",
     "text": [
      "{}\n"
     ]
    }
   ],
   "source": [
    "product_prices.clear()\n",
    "print(product_prices)"
   ]
  },
  {
   "cell_type": "code",
   "execution_count": 34,
   "id": "3db3b419",
   "metadata": {},
   "outputs": [],
   "source": [
    "product_prices = {\n",
    "  \"string cheese\": 3.49,\n",
    "  \"milk\": 2.99,\n",
    "  \"bananas\": 1.49,\n",
    "  \"cereal\": 2.99,\n",
    "  \"bacon\": 8.99\n",
    "}"
   ]
  },
  {
   "cell_type": "code",
   "execution_count": 36,
   "id": "d70838d5",
   "metadata": {},
   "outputs": [
    {
     "name": "stdout",
     "output_type": "stream",
     "text": [
      "string cheese:13\n",
      "milk:4\n",
      "bananas:7\n",
      "cereal:6\n",
      "bacon:5\n"
     ]
    }
   ],
   "source": [
    "for key in product_prices.keys():\n",
    "    print(f'{key}:{len(key)}')\n"
   ]
  },
  {
   "cell_type": "code",
   "execution_count": 37,
   "id": "bb35b472",
   "metadata": {},
   "outputs": [
    {
     "name": "stdout",
     "output_type": "stream",
     "text": [
      "{'string cheese': 3.49, 'milk': 2.99, 'bananas': 1.49, 'cereal': 2.99, 'bacon': 8.99}\n"
     ]
    }
   ],
   "source": [
    "dairy_prices = product_prices.copy()\n",
    "print(dairy_prices)"
   ]
  },
  {
   "cell_type": "code",
   "execution_count": 38,
   "id": "9e82d148",
   "metadata": {},
   "outputs": [
    {
     "name": "stdout",
     "output_type": "stream",
     "text": [
      "{'string cheese': 3.49, 'milk': 2.99}\n"
     ]
    }
   ],
   "source": [
    "[dairy_prices.pop(key) for key in ['bacon','cereal','bananas']]\n",
    "print(dairy_prices)"
   ]
  },
  {
   "cell_type": "code",
   "execution_count": 39,
   "id": "4024cf39",
   "metadata": {},
   "outputs": [
    {
     "name": "stdout",
     "output_type": "stream",
     "text": [
      "{'string cheese': 3.49, 'milk': 2.99, 'bananas': 1.49, 'cereal': 2.99, 'bacon': 8.99}\n"
     ]
    }
   ],
   "source": [
    "print(product_prices)\n"
   ]
  },
  {
   "cell_type": "code",
   "execution_count": null,
   "id": "ad773e43",
   "metadata": {},
   "outputs": [],
   "source": []
  }
 ],
 "metadata": {
  "kernelspec": {
   "display_name": "Python 3 (ipykernel)",
   "language": "python",
   "name": "python3"
  },
  "language_info": {
   "codemirror_mode": {
    "name": "ipython",
    "version": 3
   },
   "file_extension": ".py",
   "mimetype": "text/x-python",
   "name": "python",
   "nbconvert_exporter": "python",
   "pygments_lexer": "ipython3",
   "version": "3.9.12"
  }
 },
 "nbformat": 4,
 "nbformat_minor": 5
}
